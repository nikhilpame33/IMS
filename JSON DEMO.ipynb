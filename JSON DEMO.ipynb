{
 "cells": [
  {
   "cell_type": "markdown",
   "id": "b529007a",
   "metadata": {},
   "source": [
    "<h1> Read data</h1>"
   ]
  },
  {
   "cell_type": "code",
   "execution_count": 1,
   "id": "ce08b3c1",
   "metadata": {},
   "outputs": [],
   "source": [
    "import json"
   ]
  },
  {
   "cell_type": "code",
   "execution_count": 2,
   "id": "e370ddbf",
   "metadata": {},
   "outputs": [],
   "source": [
    "fd = open(\"record.json\",'r')\n",
    "text= fd.read()\n",
    "fd.close()\n",
    "\n",
    "record = json.loads(text)"
   ]
  },
  {
   "cell_type": "code",
   "execution_count": 3,
   "id": "fec6daa1",
   "metadata": {},
   "outputs": [
    {
     "data": {
      "text/plain": [
       "{'1001': {'name': 'Choco Cake', 'qn': 34, 'pr': 100},\n",
       " '1002': {'name': 'Milk Cake', 'pr': 800, 'qn': 100},\n",
       " '1003': {'name': 'Drink', 'pr': 85, 'qn': 100},\n",
       " '1004': {'name': 'Candy', 'pr': 5, 'qn': 1000},\n",
       " '1005': {'name': 'Pen', 'pr': 20, 'qn': 100},\n",
       " '1006': {'name': 'Phone', 'pr': 50000, 'qn': 10},\n",
       " '1007': {'name': 'Mic', 'pr': 1500, 'qn': 0},\n",
       " '1008': {'name': 'Case', 'pr': 599, 'qn': 5},\n",
       " '1009': {'name': 'Keyboard', 'pr': 1999, 'qn': 10},\n",
       " '1010': {'name': 'cutter', 'pr': 5, 'qn': 100},\n",
       " '1011': {'name': 'paper', 'pr': 2, 'qn': 1100},\n",
       " '1012': {'name': 'stapler', 'pr': 56, 'qn': 100},\n",
       " '1013': {'name': 'boat', 'pr': 150000, 'qn': 8},\n",
       " '1014': {'name': 'pencil', 'pr': 5, 'qn': 144},\n",
       " '1015': {'name': 'tree', 'pr': 500, 'qn': 288},\n",
       " '1016': {'name': 'pin', 'pr': 45, 'qn': 586},\n",
       " '1017': {'name': 'cable', 'pr': 150, 'qn': 500},\n",
       " '1018': {'name': 'charger', 'pr': 50, 'qn': 540},\n",
       " '1019': {'name': 'bottle', 'pr': 70, 'qn': 100},\n",
       " '1020': {'name': 'ball', 'pr': 20, 'qn': 2000},\n",
       " '1021': {'name': 'fan', 'pr': 1200, 'qn': 56},\n",
       " '1022': {'name': 'book', 'pr': 85, 'qn': 93},\n",
       " '1023': {'name': 'bed', 'pr': 5000, 'qn': 7},\n",
       " '1024': {'name': 'cover', 'pr': 150, 'qn': 546},\n",
       " '1025': {'name': 'exampad', 'pr': 70, 'qn': 144},\n",
       " '1026': {'name': 'tubelight', 'pr': 450, 'qn': 98},\n",
       " '1027': {'name': 'perfum', 'pr': 199, 'qn': 500},\n",
       " '1028': {'name': 'bike', 'pr': 150000, 'qn': 5},\n",
       " '1029': {'name': 'umbrella', 'pr': 150, 'qn': 144},\n",
       " '1030': {'name': 'car', 'pr': 3200000, 'qn': 8}}"
      ]
     },
     "execution_count": 3,
     "metadata": {},
     "output_type": "execute_result"
    }
   ],
   "source": [
    "record"
   ]
  },
  {
   "cell_type": "markdown",
   "id": "598f81c1",
   "metadata": {},
   "source": [
    "<h1> Add new product </h1>"
   ]
  },
  {
   "cell_type": "code",
   "execution_count": 8,
   "id": "b2f7e813",
   "metadata": {},
   "outputs": [
    {
     "name": "stdout",
     "output_type": "stream",
     "text": [
      "Enter product id:1031\n",
      "Enter name:notebook\n",
      "Enter price:40\n",
      "Enter quantity:120\n"
     ]
    }
   ],
   "source": [
    "prod_id = str(input(\"Enter product id:\"))\n",
    "name = str(input(\"Enter name:\"))\n",
    "pr = int(input(\"Enter price:\"))\n",
    "qn = int(input(\"Enter quantity:\"))\n",
    "\n",
    "record[prod_id] = {'name': name, 'pr': pr, 'qn': qn}\n",
    "\n",
    "js = json.dumps(record)\n",
    "\n",
    "fd = open(\"record.json\",'w')\n",
    "fd.write(js)\n",
    "fd.close()"
   ]
  },
  {
   "cell_type": "markdown",
   "id": "cdb2d40c",
   "metadata": {},
   "source": [
    "# Buy a product"
   ]
  },
  {
   "cell_type": "code",
   "execution_count": 9,
   "id": "d228178d",
   "metadata": {},
   "outputs": [
    {
     "data": {
      "text/plain": [
       "{'1001': {'name': 'Choco Cake', 'qn': 34, 'pr': 100},\n",
       " '1002': {'name': 'Milk Cake', 'pr': 800, 'qn': 100},\n",
       " '1003': {'name': 'Drink', 'pr': 85, 'qn': 100},\n",
       " '1004': {'name': 'Candy', 'pr': 5, 'qn': 1000},\n",
       " '1005': {'name': 'Pen', 'pr': 20, 'qn': 100},\n",
       " '1006': {'name': 'Phone', 'pr': 50000, 'qn': 10},\n",
       " '1007': {'name': 'Mic', 'pr': 1500, 'qn': 0},\n",
       " '1008': {'name': 'Case', 'pr': 599, 'qn': 5},\n",
       " '1009': {'name': 'Keyboard', 'pr': 1999, 'qn': 10},\n",
       " '1010': {'name': 'cutter', 'pr': 5, 'qn': 100},\n",
       " '1011': {'name': 'paper', 'pr': 2, 'qn': 1100},\n",
       " '1012': {'name': 'stapler', 'pr': 56, 'qn': 100},\n",
       " '1013': {'name': 'boat', 'pr': 150000, 'qn': 8},\n",
       " '1014': {'name': 'pencil', 'pr': 5, 'qn': 144},\n",
       " '1015': {'name': 'tree', 'pr': 500, 'qn': 288},\n",
       " '1016': {'name': 'pin', 'pr': 45, 'qn': 586},\n",
       " '1017': {'name': 'cable', 'pr': 150, 'qn': 500},\n",
       " '1018': {'name': 'charger', 'pr': 50, 'qn': 540},\n",
       " '1019': {'name': 'bottle', 'pr': 70, 'qn': 100},\n",
       " '1020': {'name': 'ball', 'pr': 20, 'qn': 2000},\n",
       " '1021': {'name': 'fan', 'pr': 1200, 'qn': 56},\n",
       " '1022': {'name': 'book', 'pr': 85, 'qn': 93},\n",
       " '1023': {'name': 'bed', 'pr': 5000, 'qn': 7},\n",
       " '1024': {'name': 'cover', 'pr': 150, 'qn': 546},\n",
       " '1025': {'name': 'exampad', 'pr': 70, 'qn': 144},\n",
       " '1026': {'name': 'tubelight', 'pr': 450, 'qn': 98},\n",
       " '1027': {'name': 'perfum', 'pr': 199, 'qn': 500},\n",
       " '1028': {'name': 'bike', 'pr': 150000, 'qn': 5},\n",
       " '1029': {'name': 'umbrella', 'pr': 150, 'qn': 144},\n",
       " '1030': {'name': 'car', 'pr': 3200000, 'qn': 8},\n",
       " '1031': {'name': 'notebook', 'pr': 40, 'qn': 120}}"
      ]
     },
     "execution_count": 9,
     "metadata": {},
     "output_type": "execute_result"
    }
   ],
   "source": [
    "record\n"
   ]
  },
  {
   "cell_type": "code",
   "execution_count": 10,
   "id": "79ee23f4",
   "metadata": {},
   "outputs": [
    {
     "name": "stdout",
     "output_type": "stream",
     "text": [
      "Enter the product_Id: 1011\n",
      "Enter the quantity: 100\n",
      "Product:  paper\n",
      "Price:  2\n",
      "Billing Amount:  200\n"
     ]
    }
   ],
   "source": [
    "ui_prod  = str(input(\"Enter the product_Id: \"))\n",
    "ui_quant = int(input(\"Enter the quantity: \"))\n",
    "\n",
    "\n",
    "print(\"Product: \", record[ui_prod]['name'])\n",
    "print(\"Price: \", record[ui_prod]['pr'])\n",
    "print(\"Billing Amount: \", record[ui_prod]['pr'] * ui_quant)\n",
    "\n",
    "record[ui_prod]['qn'] = record[ui_prod]['qn'] - ui_quant"
   ]
  },
  {
   "cell_type": "markdown",
   "id": "443a93c3",
   "metadata": {},
   "source": [
    "# Update data"
   ]
  },
  {
   "cell_type": "code",
   "execution_count": 12,
   "id": "5c6a65fb",
   "metadata": {},
   "outputs": [],
   "source": [
    "js = json.dumps(record)\n",
    "\n",
    "fd = open(\"record.json\",'w')\n",
    "fd.write(js)\n",
    "fd.close()"
   ]
  },
  {
   "cell_type": "markdown",
   "id": "c8b73b87",
   "metadata": {},
   "source": [
    "# Sales JSON File"
   ]
  },
  {
   "cell_type": "code",
   "execution_count": 13,
   "id": "100a7789",
   "metadata": {},
   "outputs": [
    {
     "data": {
      "text/plain": [
       "{'prod': '1011', 'qn': 100, 'amount': 200}"
      ]
     },
     "execution_count": 13,
     "metadata": {},
     "output_type": "execute_result"
    }
   ],
   "source": [
    "{'prod' : ui_prod, 'qn' : ui_quant, 'amount': record[ui_prod]['pr'] * ui_quant}"
   ]
  },
  {
   "cell_type": "code",
   "execution_count": 14,
   "id": "d0341fe3",
   "metadata": {},
   "outputs": [],
   "source": [
    "sales = {1 : {'prod' : ui_prod, 'qn' : ui_quant, 'amount': record[ui_prod]['pr'] * ui_quant}}"
   ]
  },
  {
   "cell_type": "code",
   "execution_count": 15,
   "id": "db75f507",
   "metadata": {},
   "outputs": [],
   "source": [
    "sale = json.dumps(sales)"
   ]
  },
  {
   "cell_type": "code",
   "execution_count": 20,
   "id": "8339141c",
   "metadata": {},
   "outputs": [],
   "source": [
    "sl = open(\"sale.json\",'w')\n",
    "text= sl.write(sale)\n",
    "sl.close()"
   ]
  },
  {
   "cell_type": "code",
   "execution_count": null,
   "id": "e36832ba",
   "metadata": {},
   "outputs": [],
   "source": []
  }
 ],
 "metadata": {
  "kernelspec": {
   "display_name": "Python 3",
   "language": "python",
   "name": "python3"
  },
  "language_info": {
   "codemirror_mode": {
    "name": "ipython",
    "version": 3
   },
   "file_extension": ".py",
   "mimetype": "text/x-python",
   "name": "python",
   "nbconvert_exporter": "python",
   "pygments_lexer": "ipython3",
   "version": "3.7.3"
  }
 },
 "nbformat": 4,
 "nbformat_minor": 5
}
